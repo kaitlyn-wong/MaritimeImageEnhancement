{
 "cells": [
  {
   "cell_type": "markdown",
   "metadata": {
    "colab_type": "text",
    "id": "ZgjZaQio7aiN"
   },
   "source": [
    "# Denoising AutoEncoder"
   ]
  },
  {
   "cell_type": "code",
   "execution_count": 1,
   "metadata": {
    "colab": {},
    "colab_type": "code",
    "id": "9B7rDQcI-7IV"
   },
   "outputs": [],
   "source": [
    "# %tensorflow_version 2.x"
   ]
  },
  {
   "cell_type": "code",
   "execution_count": 2,
   "metadata": {
    "colab": {},
    "colab_type": "code",
    "id": "anIrvWzL7HZb"
   },
   "outputs": [],
   "source": [
    "\n",
    "from tensorflow.keras.layers import Input, Dense, Conv2D, MaxPooling2D, UpSampling2D\n",
    "from tensorflow.keras.models import Model\n",
    "\n",
    "import matplotlib.pyplot as plt\n",
    "\n",
    "import numpy as np\n",
    "\n",
    "from tensorflow.keras.datasets import mnist\n"
   ]
  },
  {
   "cell_type": "markdown",
   "metadata": {
    "colab_type": "text",
    "id": "cm2hYOaxFFPR"
   },
   "source": [
    "## Get the dataset"
   ]
  },
  {
   "cell_type": "code",
   "execution_count": 3,
   "metadata": {
    "colab": {
     "base_uri": "https://localhost:8080/",
     "height": 52
    },
    "colab_type": "code",
    "id": "Sl9-J1c09_pW",
    "outputId": "fe51e686-eea8-4cb8-ad29-d69b0c45b48a"
   },
   "outputs": [],
   "source": [
    "(x_train, _), (x_test, _) = mnist.load_data()\n",
    "\n",
    "x_train = x_train.reshape(60000,28, 28,1).astype('float32')\n",
    "x_test = x_test.reshape(10000,28, 28,1).astype('float32')\n",
    "\n",
    "x_train /= 255.\n",
    "x_test /= 255.\n"
   ]
  },
  {
   "cell_type": "code",
   "execution_count": 4,
   "metadata": {
    "colab": {
     "base_uri": "https://localhost:8080/",
     "height": 73
    },
    "colab_type": "code",
    "id": "EVeb0Ot97eLD",
    "outputId": "e36fd72c-38cb-4d7b-daff-47f910993cc5"
   },
   "outputs": [
    {
     "data": {
      "image/png": "[encoded data removed]",
      "text/plain": [
       "<Figure size 1440x288 with 20 Axes>"
      ]
     },
     "metadata": {
      "needs_background": "light"
     },
     "output_type": "display_data"
    }
   ],
   "source": [
    "\n",
    "n = 20  # Num images to display\n",
    "plt.figure(figsize=(20, 4))\n",
    "for i in range(n):\n",
    "    # display original\n",
    "    ax = plt.subplot(2, n, i + 1)\n",
    "    plt.imshow(x_test[i].reshape(28, 28))\n",
    "    plt.gray()\n",
    "    ax.get_xaxis().set_visible(False)\n",
    "    ax.get_yaxis().set_visible(False)\n",
    "\n",
    "plt.show()"
   ]
  },
  {
   "cell_type": "markdown",
   "metadata": {
    "colab_type": "text",
    "id": "AOOkGBYlGiEE"
   },
   "source": [
    "## Building the Model"
   ]
  },
  {
   "cell_type": "markdown",
   "metadata": {
    "colab_type": "text",
    "id": "xf6BB_jaEbAp"
   },
   "source": [
    "### The Encoder"
   ]
  },
  {
   "cell_type": "code",
   "execution_count": 5,
   "metadata": {
    "colab": {},
    "colab_type": "code",
    "id": "3UAUfKLl8AVF"
   },
   "outputs": [],
   "source": [
    "\n",
    "\n",
    "# The encoding process\n",
    "input_img = Input(shape=(28, 28, 1))  \n",
    "\n",
    "# Conv1 #\n",
    "x = Conv2D(filters = 16, kernel_size = (3, 3), activation='relu', padding='same')(input_img)\n",
    "x = MaxPooling2D(pool_size = (2, 2), padding='same')(x)\n",
    "# Conv2 #\n",
    "x = Conv2D(filters = 8, kernel_size = (3, 3), activation='relu', padding='same')(x)\n",
    "x = MaxPooling2D(pool_size = (2, 2), padding='same')(x) \n",
    "\n",
    "# Conv 3 #\n",
    "x = Conv2D(filters = 8, kernel_size =  (3, 3), activation='relu', padding='same')(x)\n",
    "encoded = MaxPooling2D(pool_size = (2, 2), padding='same')(x)\n"
   ]
  },
  {
   "cell_type": "markdown",
   "metadata": {
    "colab_type": "text",
    "id": "i96oiNqGEhGr"
   },
   "source": [
    "### The Decoder"
   ]
  },
  {
   "cell_type": "code",
   "execution_count": 6,
   "metadata": {
    "colab": {},
    "colab_type": "code",
    "id": "Ay5_TlAw8HNI"
   },
   "outputs": [],
   "source": [
    "\n",
    "# UpSampling1\n",
    "x = Conv2D(8, (3, 3), activation='relu', padding='same')(encoded)\n",
    "x = UpSampling2D((2, 2))(x)\n",
    "\n",
    "# UpSampling2\n",
    "x = Conv2D(8, (3, 3), activation='relu', padding='same')(x)\n",
    "x = UpSampling2D((2, 2))(x)\n",
    "\n",
    "# UpSampling3\n",
    "x = Conv2D(16, (3, 3), activation='relu')(x)\n",
    "x = UpSampling2D((2, 2))(x)\n",
    "decoded = Conv2D(1, (3, 3), activation='sigmoid', padding='same')(x)"
   ]
  },
  {
   "cell_type": "markdown",
   "metadata": {
    "colab_type": "text",
    "id": "iQ7rRhomGIJe"
   },
   "source": [
    "## Compile the Model"
   ]
  },
  {
   "cell_type": "code",
   "execution_count": 7,
   "metadata": {
    "colab": {},
    "colab_type": "code",
    "id": "xHaiOKse8QGE"
   },
   "outputs": [],
   "source": [
    "# create the model\n",
    "autoencoder = Model(input_img, decoded)\n",
    "\n",
    "autoencoder.compile(optimizer='adam', loss='binary_crossentropy')"
   ]
  },
  {
   "cell_type": "code",
   "execution_count": 8,
   "metadata": {
    "colab": {
     "base_uri": "https://localhost:8080/",
     "height": 1000
    },
    "colab_type": "code",
    "id": "UsHBHDTY8mUO",
    "outputId": "ed953233-2830-4971-dc71-f777deb548c5"
   },
   "outputs": [
    {
     "name": "stdout",
     "output_type": "stream",
     "text": [
      "Train on 60000 samples, validate on 10000 samples\n",
      "Epoch 1/100\n",
      "60000/60000 [==============================] - 12s 204us/sample - loss: 0.1994 - val_loss: 0.1386\n",
      "Epoch 2/100\n",
      "60000/60000 [==============================] - 6s 101us/sample - loss: 0.1302 - val_loss: 0.1227\n",
      "Epoch 3/100\n",
      "60000/60000 [==============================] - 6s 103us/sample - loss: 0.1194 - val_loss: 0.1150\n",
      "Epoch 4/100\n",
      "60000/60000 [==============================] - 6s 102us/sample - loss: 0.1138 - val_loss: 0.1108\n",
      "Epoch 5/100\n",
      "60000/60000 [==============================] - 6s 102us/sample - loss: 0.1105 - val_loss: 0.1080\n",
      "Epoch 6/100\n",
      "60000/60000 [==============================] - 6s 102us/sample - loss: 0.1081 - val_loss: 0.1058\n",
      "Epoch 7/100\n",
      "60000/60000 [==============================] - 6s 102us/sample - loss: 0.1062 - val_loss: 0.1044loss: 0.106\n",
      "Epoch 8/100\n",
      "60000/60000 [==============================] - 6s 103us/sample - loss: 0.1047 - val_loss: 0.1027\n",
      "Epoch 9/100\n",
      "60000/60000 [==============================] - 6s 103us/sample - loss: 0.1034 - val_loss: 0.1017\n",
      "Epoch 10/100\n",
      "60000/60000 [==============================] - 6s 102us/sample - loss: 0.1023 - val_loss: 0.1008\n",
      "Epoch 11/100\n",
      "60000/60000 [==============================] - 6s 102us/sample - loss: 0.1013 - val_loss: 0.1001\n",
      "Epoch 12/100\n",
      "60000/60000 [==============================] - 6s 103us/sample - loss: 0.1005 - val_loss: 0.0991\n",
      "Epoch 13/100\n",
      "60000/60000 [==============================] - 6s 102us/sample - loss: 0.0998 - val_loss: 0.0988\n",
      "Epoch 14/100\n",
      "60000/60000 [==============================] - 6s 102us/sample - loss: 0.0991 - val_loss: 0.0975\n",
      "Epoch 15/100\n",
      "60000/60000 [==============================] - 6s 103us/sample - loss: 0.0985 - val_loss: 0.0973\n",
      "Epoch 16/100\n",
      "60000/60000 [==============================] - 6s 103us/sample - loss: 0.0979 - val_loss: 0.0964\n",
      "Epoch 17/100\n",
      "60000/60000 [==============================] - 6s 102us/sample - loss: 0.0975 - val_loss: 0.0958\n",
      "Epoch 18/100\n",
      "60000/60000 [==============================] - 6s 103us/sample - loss: 0.0969 - val_loss: 0.0956\n",
      "Epoch 19/100\n",
      "60000/60000 [==============================] - 6s 104us/sample - loss: 0.0965 - val_loss: 0.0951\n",
      "Epoch 20/100\n",
      "60000/60000 [==============================] - 3s 56us/sample - loss: 0.0961 - val_loss: 0.0948\n",
      "Epoch 21/100\n",
      "60000/60000 [==============================] - 3s 42us/sample - loss: 0.0957 - val_loss: 0.0944\n",
      "Epoch 22/100\n",
      "60000/60000 [==============================] - 3s 42us/sample - loss: 0.0953 - val_loss: 0.0941\n",
      "Epoch 23/100\n",
      "60000/60000 [==============================] - 3s 42us/sample - loss: 0.0950 - val_loss: 0.0934\n",
      "Epoch 24/100\n",
      "60000/60000 [==============================] - 2s 41us/sample - loss: 0.0947 - val_loss: 0.0933\n",
      "Epoch 25/100\n",
      "60000/60000 [==============================] - 2s 42us/sample - loss: 0.0944 - val_loss: 0.0928\n",
      "Epoch 26/100\n",
      "60000/60000 [==============================] - 2s 42us/sample - loss: 0.0941 - val_loss: 0.0934\n",
      "Epoch 27/100\n",
      "60000/60000 [==============================] - 2s 42us/sample - loss: 0.0938 - val_loss: 0.0931\n",
      "Epoch 28/100\n",
      "60000/60000 [==============================] - 3s 42us/sample - loss: 0.0936 - val_loss: 0.0931\n",
      "Epoch 29/100\n",
      "60000/60000 [==============================] - 3s 42us/sample - loss: 0.0934 - val_loss: 0.0920\n",
      "Epoch 30/100\n",
      "60000/60000 [==============================] - 3s 42us/sample - loss: 0.0932 - val_loss: 0.0920\n",
      "Epoch 31/100\n",
      "60000/60000 [==============================] - 2s 42us/sample - loss: 0.0929 - val_loss: 0.0917\n",
      "Epoch 32/100\n",
      "60000/60000 [==============================] - 2s 41us/sample - loss: 0.0928 - val_loss: 0.0915\n",
      "Epoch 33/100\n",
      "60000/60000 [==============================] - 2s 41us/sample - loss: 0.0926 - val_loss: 0.0912\n",
      "Epoch 34/100\n",
      "60000/60000 [==============================] - 2s 42us/sample - loss: 0.0924 - val_loss: 0.0911\n",
      "Epoch 35/100\n",
      "60000/60000 [==============================] - 2s 42us/sample - loss: 0.0922 - val_loss: 0.0910\n",
      "Epoch 36/100\n",
      "60000/60000 [==============================] - 2s 42us/sample - loss: 0.0921 - val_loss: 0.0909\n",
      "Epoch 37/100\n",
      "60000/60000 [==============================] - 2s 42us/sample - loss: 0.0919 - val_loss: 0.0909\n",
      "Epoch 38/100\n",
      "60000/60000 [==============================] - 2s 41us/sample - loss: 0.0917 - val_loss: 0.0904\n",
      "Epoch 39/100\n",
      "60000/60000 [==============================] - 2s 41us/sample - loss: 0.0916 - val_loss: 0.0904\n",
      "Epoch 40/100\n",
      "60000/60000 [==============================] - 2s 41us/sample - loss: 0.0915 - val_loss: 0.0901\n",
      "Epoch 41/100\n",
      "60000/60000 [==============================] - 2s 41us/sample - loss: 0.0914 - val_loss: 0.0901\n",
      "Epoch 42/100\n",
      "60000/60000 [==============================] - 2s 41us/sample - loss: 0.0913 - val_loss: 0.0900\n",
      "Epoch 43/100\n",
      "60000/60000 [==============================] - 3s 42us/sample - loss: 0.0911 - val_loss: 0.0899\n",
      "Epoch 44/100\n",
      "60000/60000 [==============================] - 3s 42us/sample - loss: 0.0910 - val_loss: 0.0897\n",
      "Epoch 45/100\n",
      "60000/60000 [==============================] - 3s 42us/sample - loss: 0.0909 - val_loss: 0.0899\n",
      "Epoch 46/100\n",
      "60000/60000 [==============================] - 3s 42us/sample - loss: 0.0909 - val_loss: 0.0901\n",
      "Epoch 47/100\n",
      "60000/60000 [==============================] - 3s 42us/sample - loss: 0.0907 - val_loss: 0.0895\n",
      "Epoch 48/100\n",
      "60000/60000 [==============================] - 3s 42us/sample - loss: 0.0907 - val_loss: 0.0898\n",
      "Epoch 49/100\n",
      "60000/60000 [==============================] - 3s 42us/sample - loss: 0.0906 - val_loss: 0.0892\n",
      "Epoch 50/100\n",
      "60000/60000 [==============================] - 3s 42us/sample - loss: 0.0905 - val_loss: 0.0905\n",
      "Epoch 51/100\n",
      "60000/60000 [==============================] - 2s 41us/sample - loss: 0.0904 - val_loss: 0.0890\n",
      "Epoch 52/100\n",
      "60000/60000 [==============================] - 3s 42us/sample - loss: 0.0903 - val_loss: 0.0892\n",
      "Epoch 53/100\n",
      "60000/60000 [==============================] - 2s 42us/sample - loss: 0.0903 - val_loss: 0.0889\n",
      "Epoch 54/100\n",
      "60000/60000 [==============================] - 2s 42us/sample - loss: 0.0902 - val_loss: 0.0895\n",
      "Epoch 55/100\n",
      "60000/60000 [==============================] - 3s 42us/sample - loss: 0.0900 - val_loss: 0.0892\n",
      "Epoch 56/100\n",
      "60000/60000 [==============================] - 3s 42us/sample - loss: 0.0900 - val_loss: 0.0885\n",
      "Epoch 57/100\n",
      "60000/60000 [==============================] - 3s 42us/sample - loss: 0.0899 - val_loss: 0.0889\n",
      "Epoch 58/100\n",
      "60000/60000 [==============================] - 2s 41us/sample - loss: 0.0899 - val_loss: 0.0890\n",
      "Epoch 59/100\n",
      "60000/60000 [==============================] - 2s 41us/sample - loss: 0.0898 - val_loss: 0.0889\n",
      "Epoch 60/100\n",
      "60000/60000 [==============================] - 2s 41us/sample - loss: 0.0897 - val_loss: 0.0890\n",
      "Epoch 61/100\n",
      "60000/60000 [==============================] - 3s 42us/sample - loss: 0.0896 - val_loss: 0.0885\n",
      "Epoch 62/100\n",
      "60000/60000 [==============================] - 3s 42us/sample - loss: 0.0895 - val_loss: 0.0887\n",
      "Epoch 63/100\n",
      "60000/60000 [==============================] - 3s 42us/sample - loss: 0.0895 - val_loss: 0.0885\n",
      "Epoch 64/100\n",
      "60000/60000 [==============================] - 3s 42us/sample - loss: 0.0894 - val_loss: 0.0881\n",
      "Epoch 65/100\n",
      "60000/60000 [==============================] - 2s 41us/sample - loss: 0.0893 - val_loss: 0.0883\n",
      "Epoch 66/100\n",
      "60000/60000 [==============================] - 3s 42us/sample - loss: 0.0892 - val_loss: 0.0884\n",
      "Epoch 67/100\n",
      "60000/60000 [==============================] - 2s 42us/sample - loss: 0.0891 - val_loss: 0.0882\n",
      "Epoch 68/100\n",
      "60000/60000 [==============================] - 3s 42us/sample - loss: 0.0891 - val_loss: 0.0880\n",
      "Epoch 69/100\n",
      "60000/60000 [==============================] - 3s 42us/sample - loss: 0.0891 - val_loss: 0.0878\n",
      "Epoch 70/100\n",
      "60000/60000 [==============================] - 3s 42us/sample - loss: 0.0890 - val_loss: 0.0883\n",
      "Epoch 71/100\n",
      "60000/60000 [==============================] - 3s 44us/sample - loss: 0.0889 - val_loss: 0.0878\n",
      "Epoch 72/100\n",
      "60000/60000 [==============================] - 3s 44us/sample - loss: 0.0889 - val_loss: 0.0882\n",
      "Epoch 73/100\n",
      "60000/60000 [==============================] - 3s 44us/sample - loss: 0.0889 - val_loss: 0.0877\n",
      "Epoch 74/100\n",
      "60000/60000 [==============================] - 3s 44us/sample - loss: 0.0888 - val_loss: 0.0878\n",
      "Epoch 75/100\n"
     ]
    },
    {
     "name": "stdout",
     "output_type": "stream",
     "text": [
      "60000/60000 [==============================] - 3s 43us/sample - loss: 0.0887 - val_loss: 0.0876\n",
      "Epoch 76/100\n",
      "60000/60000 [==============================] - 3s 43us/sample - loss: 0.0887 - val_loss: 0.0878\n",
      "Epoch 77/100\n",
      "60000/60000 [==============================] - 3s 42us/sample - loss: 0.0887 - val_loss: 0.0875\n",
      "Epoch 78/100\n",
      "60000/60000 [==============================] - 2s 41us/sample - loss: 0.0886 - val_loss: 0.0874\n",
      "Epoch 79/100\n",
      "60000/60000 [==============================] - 2s 42us/sample - loss: 0.0886 - val_loss: 0.0876\n",
      "Epoch 80/100\n",
      "60000/60000 [==============================] - 2s 41us/sample - loss: 0.0885 - val_loss: 0.0880\n",
      "Epoch 81/100\n",
      "60000/60000 [==============================] - 2s 41us/sample - loss: 0.0885 - val_loss: 0.0875\n",
      "Epoch 82/100\n",
      "60000/60000 [==============================] - 2s 42us/sample - loss: 0.0883 - val_loss: 0.0872\n",
      "Epoch 83/100\n",
      "60000/60000 [==============================] - 2s 41us/sample - loss: 0.0884 - val_loss: 0.0875\n",
      "Epoch 84/100\n",
      "60000/60000 [==============================] - 2s 41us/sample - loss: 0.0882 - val_loss: 0.0871\n",
      "Epoch 85/100\n",
      "60000/60000 [==============================] - 2s 41us/sample - loss: 0.0882 - val_loss: 0.0872\n",
      "Epoch 86/100\n",
      "60000/60000 [==============================] - 2s 41us/sample - loss: 0.0882 - val_loss: 0.0874\n",
      "Epoch 87/100\n",
      "60000/60000 [==============================] - 2s 41us/sample - loss: 0.0882 - val_loss: 0.0874\n",
      "Epoch 88/100\n",
      "60000/60000 [==============================] - 2s 41us/sample - loss: 0.0882 - val_loss: 0.0870\n",
      "Epoch 89/100\n",
      "60000/60000 [==============================] - 2s 41us/sample - loss: 0.0881 - val_loss: 0.0874\n",
      "Epoch 90/100\n",
      "60000/60000 [==============================] - 2s 41us/sample - loss: 0.0881 - val_loss: 0.0871\n",
      "Epoch 91/100\n",
      "60000/60000 [==============================] - 2s 41us/sample - loss: 0.0880 - val_loss: 0.0872\n",
      "Epoch 92/100\n",
      "60000/60000 [==============================] - 3s 42us/sample - loss: 0.0880 - val_loss: 0.0873\n",
      "Epoch 93/100\n",
      "60000/60000 [==============================] - 3s 42us/sample - loss: 0.0880 - val_loss: 0.0871\n",
      "Epoch 94/100\n",
      "60000/60000 [==============================] - 2s 42us/sample - loss: 0.0879 - val_loss: 0.0872\n",
      "Epoch 95/100\n",
      "60000/60000 [==============================] - 2s 42us/sample - loss: 0.0879 - val_loss: 0.0868\n",
      "Epoch 96/100\n",
      "60000/60000 [==============================] - 2s 41us/sample - loss: 0.0878 - val_loss: 0.0869\n",
      "Epoch 97/100\n",
      "60000/60000 [==============================] - 2s 41us/sample - loss: 0.0878 - val_loss: 0.0869\n",
      "Epoch 98/100\n",
      "60000/60000 [==============================] - 2s 41us/sample - loss: 0.0878 - val_loss: 0.0873\n",
      "Epoch 99/100\n",
      "60000/60000 [==============================] - 2s 41us/sample - loss: 0.0877 - val_loss: 0.0866\n",
      "Epoch 100/100\n",
      "60000/60000 [==============================] - 2s 41us/sample - loss: 0.0877 - val_loss: 0.0868\n"
     ]
    },
    {
     "data": {
      "text/plain": [
       "<tensorflow.python.keras.callbacks.History at 0x222a1041dc8>"
      ]
     },
     "execution_count": 8,
     "metadata": {},
     "output_type": "execute_result"
    }
   ],
   "source": [
    "autoencoder.fit(x_train, x_train,\n",
    "                epochs=100,\n",
    "                batch_size=128,\n",
    "                shuffle=True,\n",
    "                validation_data=(x_test, x_test)\n",
    "               )"
   ]
  },
  {
   "cell_type": "code",
   "execution_count": 9,
   "metadata": {
    "colab": {
     "base_uri": "https://localhost:8080/",
     "height": 641
    },
    "colab_type": "code",
    "id": "gNJGufLY3623",
    "outputId": "7ab5d6e1-4803-41d8-8759-258108a93480"
   },
   "outputs": [
    {
     "name": "stdout",
     "output_type": "stream",
     "text": [
      "Model: \"model\"\n",
      "_________________________________________________________________\n",
      "Layer (type)                 Output Shape              Param #   \n",
      "=================================================================\n",
      "input_1 (InputLayer)         [(None, 28, 28, 1)]       0         \n",
      "_________________________________________________________________\n",
      "conv2d (Conv2D)              (None, 28, 28, 16)        160       \n",
      "_________________________________________________________________\n",
      "max_pooling2d (MaxPooling2D) (None, 14, 14, 16)        0         \n",
      "_________________________________________________________________\n",
      "conv2d_1 (Conv2D)            (None, 14, 14, 8)         1160      \n",
      "_________________________________________________________________\n",
      "max_pooling2d_1 (MaxPooling2 (None, 7, 7, 8)           0         \n",
      "_________________________________________________________________\n",
      "conv2d_2 (Conv2D)            (None, 7, 7, 8)           584       \n",
      "_________________________________________________________________\n",
      "max_pooling2d_2 (MaxPooling2 (None, 4, 4, 8)           0         \n",
      "_________________________________________________________________\n",
      "conv2d_3 (Conv2D)            (None, 4, 4, 8)           584       \n",
      "_________________________________________________________________\n",
      "up_sampling2d (UpSampling2D) (None, 8, 8, 8)           0         \n",
      "_________________________________________________________________\n",
      "conv2d_4 (Conv2D)            (None, 8, 8, 8)           584       \n",
      "_________________________________________________________________\n",
      "up_sampling2d_1 (UpSampling2 (None, 16, 16, 8)         0         \n",
      "_________________________________________________________________\n",
      "conv2d_5 (Conv2D)            (None, 14, 14, 16)        1168      \n",
      "_________________________________________________________________\n",
      "up_sampling2d_2 (UpSampling2 (None, 28, 28, 16)        0         \n",
      "_________________________________________________________________\n",
      "conv2d_6 (Conv2D)            (None, 28, 28, 1)         145       \n",
      "=================================================================\n",
      "Total params: 4,385\n",
      "Trainable params: 4,385\n",
      "Non-trainable params: 0\n",
      "_________________________________________________________________\n"
     ]
    }
   ],
   "source": [
    "autoencoder.summary()"
   ]
  },
  {
   "cell_type": "markdown",
   "metadata": {
    "colab_type": "text",
    "id": "jTzcZQ6VHTV2"
   },
   "source": [
    "### Checking some predictions"
   ]
  },
  {
   "cell_type": "code",
   "execution_count": 10,
   "metadata": {
    "colab": {},
    "colab_type": "code",
    "id": "fBCl7vo3Hc6O"
   },
   "outputs": [],
   "source": [
    "decoded_imgs = autoencoder.predict(x_test)"
   ]
  },
  {
   "cell_type": "code",
   "execution_count": 11,
   "metadata": {
    "colab": {
     "base_uri": "https://localhost:8080/",
     "height": 217
    },
    "colab_type": "code",
    "id": "WJ4hpDrf8qo4",
    "outputId": "1f4e4336-c383-4428-91b5-0748703e54e0"
   },
   "outputs": [
    {
     "data": {
      "image/png": "[encoded data removed]",
      "text/plain": [
       "<Figure size 1440x288 with 20 Axes>"
      ]
     },
     "metadata": {
      "needs_background": "light"
     },
     "output_type": "display_data"
    }
   ],
   "source": [
    "n = 10\n",
    "\n",
    "plt.figure(figsize=(20, 4))\n",
    "for i in range(n):\n",
    "    # display original\n",
    "    ax = plt.subplot(2, n, i + 1)\n",
    "    plt.imshow(x_test[i].reshape(28, 28))\n",
    "    plt.gray()\n",
    "    ax.get_xaxis().set_visible(False)\n",
    "    ax.get_yaxis().set_visible(False)\n",
    "\n",
    "    # display reconstruction\n",
    "    ax = plt.subplot(2, n, i+1+n)\n",
    "    plt.imshow(decoded_imgs[i].reshape(28, 28))\n",
    "    plt.gray()\n",
    "    ax.get_xaxis().set_visible(False)\n",
    "    ax.get_yaxis().set_visible(False)\n",
    "plt.show()"
   ]
  },
  {
   "cell_type": "markdown",
   "metadata": {
    "colab_type": "text",
    "id": "NJtWTOxJHDbf"
   },
   "source": [
    "## Using the AutoEncoder for Denoising "
   ]
  },
  {
   "cell_type": "code",
   "execution_count": 12,
   "metadata": {
    "colab": {},
    "colab_type": "code",
    "id": "z3TPigb09CjH"
   },
   "outputs": [],
   "source": [
    "# adding noise to the images\n",
    "noise_factor = 0.4\n",
    "x_train_noisy = x_train + noise_factor * np.random.normal(loc=0.0, scale=1.0, size=x_train.shape) \n",
    "x_test_noisy = x_test + noise_factor * np.random.normal(loc=0.0, scale=1.0, size=x_test.shape) \n",
    "\n",
    "x_train_noisy = np.clip(x_train_noisy, 0., 1.)\n",
    "x_test_noisy = np.clip(x_test_noisy, 0., 1.)"
   ]
  },
  {
   "cell_type": "code",
   "execution_count": 13,
   "metadata": {
    "colab": {
     "base_uri": "https://localhost:8080/",
     "height": 114
    },
    "colab_type": "code",
    "id": "m3zJ7VCA9HUh",
    "outputId": "7e6d3bba-8539-4c3f-c766-2bd93416c6ee"
   },
   "outputs": [
    {
     "data": {
      "image/png": "[encoded data removed]",
      "text/plain": [
       "<Figure size 1440x144 with 10 Axes>"
      ]
     },
     "metadata": {
      "needs_background": "light"
     },
     "output_type": "display_data"
    }
   ],
   "source": [
    "n = 10\n",
    "plt.figure(figsize=(20, 2))\n",
    "for i in range(n):\n",
    "    ax = plt.subplot(1, n, i+1)\n",
    "    plt.imshow(x_test_noisy[i].reshape(28, 28))\n",
    "    plt.gray()\n",
    "    ax.get_xaxis().set_visible(False)\n",
    "    ax.get_yaxis().set_visible(False)\n",
    "plt.show()"
   ]
  },
  {
   "cell_type": "code",
   "execution_count": 14,
   "metadata": {
    "colab": {
     "base_uri": "https://localhost:8080/",
     "height": 1000
    },
    "colab_type": "code",
    "id": "f1brLvGE9LAk",
    "outputId": "2eb72bad-6462-4cd6-dba6-cb2264ada97e"
   },
   "outputs": [
    {
     "name": "stdout",
     "output_type": "stream",
     "text": [
      "Train on 60000 samples, validate on 10000 samples\n",
      "Epoch 1/100\n",
      "60000/60000 [==============================] - 3s 49us/sample - loss: 0.1431 - val_loss: 0.1248\n",
      "Epoch 2/100\n",
      "60000/60000 [==============================] - 3s 42us/sample - loss: 0.1233 - val_loss: 0.1199\n",
      "Epoch 3/100\n",
      "60000/60000 [==============================] - 3s 42us/sample - loss: 0.1194 - val_loss: 0.1161\n",
      "Epoch 4/100\n",
      "60000/60000 [==============================] - 3s 43us/sample - loss: 0.1161 - val_loss: 0.1136\n",
      "Epoch 5/100\n",
      "60000/60000 [==============================] - 3s 42us/sample - loss: 0.1144 - val_loss: 0.1125\n",
      "Epoch 6/100\n",
      "60000/60000 [==============================] - 3s 43us/sample - loss: 0.1131 - val_loss: 0.1113\n",
      "Epoch 7/100\n",
      "60000/60000 [==============================] - 3s 43us/sample - loss: 0.1116 - val_loss: 0.1099\n",
      "Epoch 8/100\n",
      "60000/60000 [==============================] - 3s 44us/sample - loss: 0.1111 - val_loss: 0.1093\n",
      "Epoch 9/100\n",
      "60000/60000 [==============================] - 3s 43us/sample - loss: 0.1106 - val_loss: 0.1093\n",
      "Epoch 10/100\n",
      "60000/60000 [==============================] - 3s 42us/sample - loss: 0.1102 - val_loss: 0.1087\n",
      "Epoch 11/100\n",
      "60000/60000 [==============================] - 3s 43us/sample - loss: 0.1099 - val_loss: 0.1085\n",
      "Epoch 12/100\n",
      "60000/60000 [==============================] - 3s 42us/sample - loss: 0.1095 - val_loss: 0.1078\n",
      "Epoch 13/100\n",
      "60000/60000 [==============================] - 3s 43us/sample - loss: 0.1092 - val_loss: 0.1078\n",
      "Epoch 14/100\n",
      "60000/60000 [==============================] - 3s 43us/sample - loss: 0.1091 - val_loss: 0.1075\n",
      "Epoch 15/100\n",
      "60000/60000 [==============================] - 3s 42us/sample - loss: 0.1087 - val_loss: 0.1071\n",
      "Epoch 16/100\n",
      "60000/60000 [==============================] - 3s 42us/sample - loss: 0.1086 - val_loss: 0.1075\n",
      "Epoch 17/100\n",
      "60000/60000 [==============================] - 3s 43us/sample - loss: 0.1084 - val_loss: 0.1074\n",
      "Epoch 18/100\n",
      "60000/60000 [==============================] - 3s 42us/sample - loss: 0.1084 - val_loss: 0.1072\n",
      "Epoch 19/100\n",
      "60000/60000 [==============================] - 3s 43us/sample - loss: 0.1081 - val_loss: 0.1068\n",
      "Epoch 20/100\n",
      "60000/60000 [==============================] - 3s 42us/sample - loss: 0.1080 - val_loss: 0.1080\n",
      "Epoch 21/100\n",
      "60000/60000 [==============================] - 3s 42us/sample - loss: 0.1078 - val_loss: 0.1064\n",
      "Epoch 22/100\n",
      "60000/60000 [==============================] - 3s 43us/sample - loss: 0.1077 - val_loss: 0.1070\n",
      "Epoch 23/100\n",
      "60000/60000 [==============================] - 3s 43us/sample - loss: 0.1076 - val_loss: 0.1063\n",
      "Epoch 24/100\n",
      "60000/60000 [==============================] - 3s 43us/sample - loss: 0.1075 - val_loss: 0.1065\n",
      "Epoch 25/100\n",
      "60000/60000 [==============================] - 3s 42us/sample - loss: 0.1075 - val_loss: 0.1066\n",
      "Epoch 26/100\n",
      "60000/60000 [==============================] - 3s 44us/sample - loss: 0.1072 - val_loss: 0.1058\n",
      "Epoch 27/100\n",
      "60000/60000 [==============================] - 3s 42us/sample - loss: 0.1071 - val_loss: 0.1058\n",
      "Epoch 28/100\n",
      "60000/60000 [==============================] - 3s 42us/sample - loss: 0.1070 - val_loss: 0.1057\n",
      "Epoch 29/100\n",
      "60000/60000 [==============================] - 3s 42us/sample - loss: 0.1069 - val_loss: 0.1064\n",
      "Epoch 30/100\n",
      "60000/60000 [==============================] - 3s 42us/sample - loss: 0.1068 - val_loss: 0.1055\n",
      "Epoch 31/100\n",
      "60000/60000 [==============================] - 3s 42us/sample - loss: 0.1067 - val_loss: 0.1057\n",
      "Epoch 32/100\n",
      "60000/60000 [==============================] - 3s 42us/sample - loss: 0.1066 - val_loss: 0.1056\n",
      "Epoch 33/100\n",
      "60000/60000 [==============================] - 3s 42us/sample - loss: 0.1066 - val_loss: 0.1052\n",
      "Epoch 34/100\n",
      "60000/60000 [==============================] - 3s 42us/sample - loss: 0.1065 - val_loss: 0.1054\n",
      "Epoch 35/100\n",
      "60000/60000 [==============================] - 3s 42us/sample - loss: 0.1064 - val_loss: 0.1050\n",
      "Epoch 36/100\n",
      "60000/60000 [==============================] - 3s 42us/sample - loss: 0.1063 - val_loss: 0.1048\n",
      "Epoch 37/100\n",
      "60000/60000 [==============================] - 3s 42us/sample - loss: 0.1062 - val_loss: 0.1054\n",
      "Epoch 38/100\n",
      "60000/60000 [==============================] - 3s 42us/sample - loss: 0.1062 - val_loss: 0.1052\n",
      "Epoch 39/100\n",
      "60000/60000 [==============================] - 3s 44us/sample - loss: 0.1062 - val_loss: 0.1052\n",
      "Epoch 40/100\n",
      "60000/60000 [==============================] - 3s 46us/sample - loss: 0.1061 - val_loss: 0.1047\n",
      "Epoch 41/100\n",
      "60000/60000 [==============================] - 3s 47us/sample - loss: 0.1060 - val_loss: 0.1049\n",
      "Epoch 42/100\n",
      "60000/60000 [==============================] - 3s 45us/sample - loss: 0.1060 - val_loss: 0.1045\n",
      "Epoch 43/100\n",
      "60000/60000 [==============================] - 3s 45us/sample - loss: 0.1060 - val_loss: 0.1047\n",
      "Epoch 44/100\n",
      "60000/60000 [==============================] - 3s 45us/sample - loss: 0.1059 - val_loss: 0.1050\n",
      "Epoch 45/100\n",
      "60000/60000 [==============================] - 3s 44us/sample - loss: 0.1058 - val_loss: 0.1056\n",
      "Epoch 46/100\n",
      "60000/60000 [==============================] - 3s 44us/sample - loss: 0.1058 - val_loss: 0.1045\n",
      "Epoch 47/100\n",
      "60000/60000 [==============================] - 3s 44us/sample - loss: 0.1058 - val_loss: 0.1053\n",
      "Epoch 48/100\n",
      "60000/60000 [==============================] - 3s 44us/sample - loss: 0.1058 - val_loss: 0.1048\n",
      "Epoch 49/100\n",
      "60000/60000 [==============================] - 3s 43us/sample - loss: 0.1057 - val_loss: 0.1043\n",
      "Epoch 50/100\n",
      "60000/60000 [==============================] - 3s 43us/sample - loss: 0.1056 - val_loss: 0.1043\n",
      "Epoch 51/100\n",
      "60000/60000 [==============================] - 3s 42us/sample - loss: 0.1056 - val_loss: 0.1046\n",
      "Epoch 52/100\n",
      "60000/60000 [==============================] - 3s 43us/sample - loss: 0.1056 - val_loss: 0.1041\n",
      "Epoch 53/100\n",
      "60000/60000 [==============================] - 3s 43us/sample - loss: 0.1056 - val_loss: 0.1043\n",
      "Epoch 54/100\n",
      "60000/60000 [==============================] - 3s 44us/sample - loss: 0.1056 - val_loss: 0.1050\n",
      "Epoch 55/100\n",
      "60000/60000 [==============================] - 3s 46us/sample - loss: 0.1054 - val_loss: 0.1042\n",
      "Epoch 56/100\n",
      "60000/60000 [==============================] - 3s 45us/sample - loss: 0.1055 - val_loss: 0.1046\n",
      "Epoch 57/100\n",
      "60000/60000 [==============================] - 3s 46us/sample - loss: 0.1055 - val_loss: 0.1049\n",
      "Epoch 58/100\n",
      "60000/60000 [==============================] - 3s 43us/sample - loss: 0.1054 - val_loss: 0.1040\n",
      "Epoch 59/100\n",
      "60000/60000 [==============================] - 3s 42us/sample - loss: 0.1053 - val_loss: 0.1038\n",
      "Epoch 60/100\n",
      "60000/60000 [==============================] - 3s 42us/sample - loss: 0.1053 - val_loss: 0.1046\n",
      "Epoch 61/100\n",
      "60000/60000 [==============================] - 3s 43us/sample - loss: 0.1053 - val_loss: 0.1040\n",
      "Epoch 62/100\n",
      "60000/60000 [==============================] - 3s 43us/sample - loss: 0.1053 - val_loss: 0.1039\n",
      "Epoch 63/100\n",
      "60000/60000 [==============================] - 3s 43us/sample - loss: 0.1052 - val_loss: 0.1042\n",
      "Epoch 64/100\n",
      "60000/60000 [==============================] - 3s 43us/sample - loss: 0.1053 - val_loss: 0.1042\n",
      "Epoch 65/100\n",
      "60000/60000 [==============================] - 3s 43us/sample - loss: 0.1052 - val_loss: 0.1043\n",
      "Epoch 66/100\n",
      "60000/60000 [==============================] - 3s 42us/sample - loss: 0.1052 - val_loss: 0.1041\n",
      "Epoch 67/100\n",
      "60000/60000 [==============================] - 3s 42us/sample - loss: 0.1053 - val_loss: 0.1039\n",
      "Epoch 68/100\n",
      "60000/60000 [==============================] - 3s 43us/sample - loss: 0.1051 - val_loss: 0.1038\n",
      "Epoch 69/100\n",
      "60000/60000 [==============================] - 3s 44us/sample - loss: 0.1051 - val_loss: 0.1040\n",
      "Epoch 70/100\n",
      "60000/60000 [==============================] - 3s 44us/sample - loss: 0.1052 - val_loss: 0.1039\n",
      "Epoch 71/100\n",
      "60000/60000 [==============================] - 3s 44us/sample - loss: 0.1051 - val_loss: 0.1037\n",
      "Epoch 72/100\n",
      "60000/60000 [==============================] - 3s 45us/sample - loss: 0.1051 - val_loss: 0.1040\n",
      "Epoch 73/100\n",
      "60000/60000 [==============================] - 3s 45us/sample - loss: 0.1051 - val_loss: 0.1040\n",
      "Epoch 74/100\n",
      "60000/60000 [==============================] - 3s 46us/sample - loss: 0.1050 - val_loss: 0.1038\n",
      "Epoch 75/100\n",
      "60000/60000 [==============================] - 3s 44us/sample - loss: 0.1050 - val_loss: 0.1051\n"
     ]
    },
    {
     "name": "stdout",
     "output_type": "stream",
     "text": [
      "Epoch 76/100\n",
      "60000/60000 [==============================] - 3s 44us/sample - loss: 0.1050 - val_loss: 0.1038\n",
      "Epoch 77/100\n",
      "60000/60000 [==============================] - 3s 43us/sample - loss: 0.1050 - val_loss: 0.1036\n",
      "Epoch 78/100\n",
      "60000/60000 [==============================] - 3s 43us/sample - loss: 0.1050 - val_loss: 0.1037\n",
      "Epoch 79/100\n",
      "60000/60000 [==============================] - 3s 43us/sample - loss: 0.1049 - val_loss: 0.1039\n",
      "Epoch 80/100\n",
      "60000/60000 [==============================] - 3s 42us/sample - loss: 0.1049 - val_loss: 0.1037\n",
      "Epoch 81/100\n",
      "60000/60000 [==============================] - 3s 42us/sample - loss: 0.1049 - val_loss: 0.1045\n",
      "Epoch 82/100\n",
      "60000/60000 [==============================] - 3s 42us/sample - loss: 0.1049 - val_loss: 0.1038\n",
      "Epoch 83/100\n",
      "60000/60000 [==============================] - 3s 42us/sample - loss: 0.1049 - val_loss: 0.1039\n",
      "Epoch 84/100\n",
      "60000/60000 [==============================] - 3s 42us/sample - loss: 0.1048 - val_loss: 0.1036\n",
      "Epoch 85/100\n",
      "60000/60000 [==============================] - 2s 42us/sample - loss: 0.1048 - val_loss: 0.1035\n",
      "Epoch 86/100\n",
      "60000/60000 [==============================] - 3s 42us/sample - loss: 0.1048 - val_loss: 0.1038\n",
      "Epoch 87/100\n",
      "60000/60000 [==============================] - 3s 42us/sample - loss: 0.1047 - val_loss: 0.1035\n",
      "Epoch 88/100\n",
      "60000/60000 [==============================] - 3s 43us/sample - loss: 0.1048 - val_loss: 0.1040\n",
      "Epoch 89/100\n",
      "60000/60000 [==============================] - 3s 43us/sample - loss: 0.1048 - val_loss: 0.1046\n",
      "Epoch 90/100\n",
      "60000/60000 [==============================] - 3s 42us/sample - loss: 0.1048 - val_loss: 0.1039\n",
      "Epoch 91/100\n",
      "60000/60000 [==============================] - 3s 42us/sample - loss: 0.1047 - val_loss: 0.1039\n",
      "Epoch 92/100\n",
      "60000/60000 [==============================] - 3s 43us/sample - loss: 0.1047 - val_loss: 0.1041\n",
      "Epoch 93/100\n",
      "60000/60000 [==============================] - 3s 42us/sample - loss: 0.1047 - val_loss: 0.1034\n",
      "Epoch 94/100\n",
      "60000/60000 [==============================] - 3s 43us/sample - loss: 0.1047 - val_loss: 0.1034\n",
      "Epoch 95/100\n",
      "60000/60000 [==============================] - 3s 42us/sample - loss: 0.1047 - val_loss: 0.1049\n",
      "Epoch 96/100\n",
      "60000/60000 [==============================] - 3s 42us/sample - loss: 0.1047 - val_loss: 0.1037\n",
      "Epoch 97/100\n",
      "60000/60000 [==============================] - 3s 42us/sample - loss: 0.1046 - val_loss: 0.1040\n",
      "Epoch 98/100\n",
      "60000/60000 [==============================] - 3s 42us/sample - loss: 0.1046 - val_loss: 0.1034\n",
      "Epoch 99/100\n",
      "60000/60000 [==============================] - 3s 42us/sample - loss: 0.1047 - val_loss: 0.1044\n",
      "Epoch 100/100\n",
      "60000/60000 [==============================] - 3s 42us/sample - loss: 0.1046 - val_loss: 0.1040\n"
     ]
    },
    {
     "data": {
      "text/plain": [
       "<tensorflow.python.keras.callbacks.History at 0x2247c36b808>"
      ]
     },
     "execution_count": 14,
     "metadata": {},
     "output_type": "execute_result"
    }
   ],
   "source": [
    "autoencoder.fit(x_train_noisy, x_train,\n",
    "                epochs=100,\n",
    "                batch_size=128,\n",
    "                shuffle=True,\n",
    "                validation_data=(x_test_noisy, x_test)\n",
    "               )"
   ]
  },
  {
   "cell_type": "code",
   "execution_count": 15,
   "metadata": {
    "colab": {
     "base_uri": "https://localhost:8080/",
     "height": 217
    },
    "colab_type": "code",
    "id": "npRZteOH_eLr",
    "outputId": "97def350-d082-4b49-88bc-3200545f9482"
   },
   "outputs": [
    {
     "data": {
      "image/png": "[encoded data removed]",
      "text/plain": [
       "<Figure size 1440x288 with 20 Axes>"
      ]
     },
     "metadata": {
      "needs_background": "light"
     },
     "output_type": "display_data"
    }
   ],
   "source": [
    "decoded_imgs = autoencoder.predict(x_test)\n",
    "\n",
    "n = 10\n",
    "\n",
    "plt.figure(figsize=(20, 4))\n",
    "for i in range(n):\n",
    "    # display original\n",
    "    ax = plt.subplot(2, n, i + 1)\n",
    "    plt.imshow(x_test_noisy[i].reshape(28, 28))\n",
    "    plt.gray()\n",
    "    ax.get_xaxis().set_visible(False)\n",
    "    ax.get_yaxis().set_visible(False)\n",
    "\n",
    "    # display reconstruction\n",
    "    ax = plt.subplot(2, n, i+1+n)\n",
    "    plt.imshow(decoded_imgs[i].reshape(28, 28))\n",
    "    plt.gray()\n",
    "    ax.get_xaxis().set_visible(False)\n",
    "    ax.get_yaxis().set_visible(False)\n",
    "plt.show()"
   ]
  },
  {
   "cell_type": "code",
   "execution_count": null,
   "metadata": {
    "colab": {},
    "colab_type": "code",
    "id": "pzEvrDzz_qNt"
   },
   "outputs": [],
   "source": []
  }
 ],
 "metadata": {
  "accelerator": "GPU",
  "colab": {
   "name": "USRL - 02 - Basic CNN and Denoising AutoEncoder.ipynb",
   "provenance": []
  },
  "kernelspec": {
   "display_name": "Python 3",
   "language": "python",
   "name": "python3"
  },
  "language_info": {
   "codemirror_mode": {
    "name": "ipython",
    "version": 3
   },
   "file_extension": ".py",
   "mimetype": "text/x-python",
   "name": "python",
   "nbconvert_exporter": "python",
   "pygments_lexer": "ipython3",
   "version": "3.7.6"
  }
 },
 "nbformat": 4,
 "nbformat_minor": 1
}
